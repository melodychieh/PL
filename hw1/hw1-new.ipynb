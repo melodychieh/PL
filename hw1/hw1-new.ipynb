{
 "cells": [
  {
   "cell_type": "code",
   "execution_count": 1,
   "id": "685d3a55",
   "metadata": {},
   "outputs": [
    {
     "name": "stdout",
     "output_type": "stream",
     "text": [
      "Defaulting to user installation because normal site-packages is not writeable\n",
      "Requirement already satisfied: chardet in d:\\program files\\anaconda3\\lib\\site-packages (4.0.0)\n",
      "Note: you may need to restart the kernel to use updated packages.\n"
     ]
    }
   ],
   "source": [
    "pip install chardet"
   ]
  },
  {
   "cell_type": "code",
   "execution_count": 2,
   "id": "5f421e6e",
   "metadata": {},
   "outputs": [],
   "source": [
    "import pandas as pd\n",
    "import chardet"
   ]
  },
  {
   "cell_type": "code",
   "execution_count": 3,
   "id": "ac665f2e",
   "metadata": {},
   "outputs": [],
   "source": [
    "file_path = 'student.csv'"
   ]
  },
  {
   "cell_type": "code",
   "execution_count": 4,
   "id": "57d22fdb",
   "metadata": {},
   "outputs": [],
   "source": [
    "# 檢測檔案編碼\n",
    "with open(file_path, 'rb') as f:\n",
    "    result = chardet.detect(f.read())"
   ]
  },
  {
   "cell_type": "code",
   "execution_count": 5,
   "id": "db5c6dae",
   "metadata": {},
   "outputs": [
    {
     "name": "stdout",
     "output_type": "stream",
     "text": [
      "檔案讀取成功！\n"
     ]
    }
   ],
   "source": [
    "try:\n",
    "    df_csv = pd.read_csv(file_path, encoding=result['encoding'])\n",
    "    print(\"檔案讀取成功！\")\n",
    "except UnicodeDecodeError:\n",
    "    print(\"無法使用檢測到的編碼讀取檔案。請手動指定正確的編碼。\")\n",
    "except Exception as e:\n",
    "    print(f\"發生錯誤: {e}\")"
   ]
  },
  {
   "cell_type": "code",
   "execution_count": 6,
   "id": "5e44e914",
   "metadata": {},
   "outputs": [
    {
     "data": {
      "text/html": [
       "<div>\n",
       "<style scoped>\n",
       "    .dataframe tbody tr th:only-of-type {\n",
       "        vertical-align: middle;\n",
       "    }\n",
       "\n",
       "    .dataframe tbody tr th {\n",
       "        vertical-align: top;\n",
       "    }\n",
       "\n",
       "    .dataframe thead th {\n",
       "        text-align: right;\n",
       "    }\n",
       "</style>\n",
       "<table border=\"1\" class=\"dataframe\">\n",
       "  <thead>\n",
       "    <tr style=\"text-align: right;\">\n",
       "      <th></th>\n",
       "      <th>name</th>\n",
       "      <th>math grade</th>\n",
       "      <th>chinese grade</th>\n",
       "    </tr>\n",
       "  </thead>\n",
       "  <tbody>\n",
       "    <tr>\n",
       "      <th>0</th>\n",
       "      <td>高田地</td>\n",
       "      <td>95</td>\n",
       "      <td>70</td>\n",
       "    </tr>\n",
       "    <tr>\n",
       "      <th>1</th>\n",
       "      <td>盧彥翔</td>\n",
       "      <td>70</td>\n",
       "      <td>80</td>\n",
       "    </tr>\n",
       "    <tr>\n",
       "      <th>2</th>\n",
       "      <td>王秉岳</td>\n",
       "      <td>55</td>\n",
       "      <td>60</td>\n",
       "    </tr>\n",
       "    <tr>\n",
       "      <th>3</th>\n",
       "      <td>莊子毅</td>\n",
       "      <td>60</td>\n",
       "      <td>95</td>\n",
       "    </tr>\n",
       "    <tr>\n",
       "      <th>4</th>\n",
       "      <td>張禕宸</td>\n",
       "      <td>45</td>\n",
       "      <td>90</td>\n",
       "    </tr>\n",
       "    <tr>\n",
       "      <th>5</th>\n",
       "      <td>陳宥紳</td>\n",
       "      <td>67</td>\n",
       "      <td>66</td>\n",
       "    </tr>\n",
       "    <tr>\n",
       "      <th>6</th>\n",
       "      <td>吳婕寧</td>\n",
       "      <td>85</td>\n",
       "      <td>95</td>\n",
       "    </tr>\n",
       "    <tr>\n",
       "      <th>7</th>\n",
       "      <td>柯杰佑</td>\n",
       "      <td>65</td>\n",
       "      <td>80</td>\n",
       "    </tr>\n",
       "    <tr>\n",
       "      <th>8</th>\n",
       "      <td>楊子傑</td>\n",
       "      <td>45</td>\n",
       "      <td>60</td>\n",
       "    </tr>\n",
       "    <tr>\n",
       "      <th>9</th>\n",
       "      <td>李維紘</td>\n",
       "      <td>90</td>\n",
       "      <td>91</td>\n",
       "    </tr>\n",
       "    <tr>\n",
       "      <th>10</th>\n",
       "      <td>陳子謀</td>\n",
       "      <td>92</td>\n",
       "      <td>97</td>\n",
       "    </tr>\n",
       "    <tr>\n",
       "      <th>11</th>\n",
       "      <td>陳韋誠</td>\n",
       "      <td>66</td>\n",
       "      <td>90</td>\n",
       "    </tr>\n",
       "    <tr>\n",
       "      <th>12</th>\n",
       "      <td>邱柏堯</td>\n",
       "      <td>62</td>\n",
       "      <td>87</td>\n",
       "    </tr>\n",
       "    <tr>\n",
       "      <th>13</th>\n",
       "      <td>張旨諒</td>\n",
       "      <td>57</td>\n",
       "      <td>80</td>\n",
       "    </tr>\n",
       "    <tr>\n",
       "      <th>14</th>\n",
       "      <td>何仲軒</td>\n",
       "      <td>87</td>\n",
       "      <td>89</td>\n",
       "    </tr>\n",
       "    <tr>\n",
       "      <th>15</th>\n",
       "      <td>鐘王誠</td>\n",
       "      <td>84</td>\n",
       "      <td>90</td>\n",
       "    </tr>\n",
       "    <tr>\n",
       "      <th>16</th>\n",
       "      <td>楊浩羽</td>\n",
       "      <td>55</td>\n",
       "      <td>57</td>\n",
       "    </tr>\n",
       "    <tr>\n",
       "      <th>17</th>\n",
       "      <td>張禕秦</td>\n",
       "      <td>78</td>\n",
       "      <td>90</td>\n",
       "    </tr>\n",
       "    <tr>\n",
       "      <th>18</th>\n",
       "      <td>黃楷互</td>\n",
       "      <td>81</td>\n",
       "      <td>66</td>\n",
       "    </tr>\n",
       "    <tr>\n",
       "      <th>19</th>\n",
       "      <td>李皓威</td>\n",
       "      <td>67</td>\n",
       "      <td>88</td>\n",
       "    </tr>\n",
       "    <tr>\n",
       "      <th>20</th>\n",
       "      <td>吳宥宏</td>\n",
       "      <td>66</td>\n",
       "      <td>95</td>\n",
       "    </tr>\n",
       "    <tr>\n",
       "      <th>21</th>\n",
       "      <td>柯安安</td>\n",
       "      <td>81</td>\n",
       "      <td>77</td>\n",
       "    </tr>\n",
       "    <tr>\n",
       "      <th>22</th>\n",
       "      <td>江玠慶</td>\n",
       "      <td>92</td>\n",
       "      <td>67</td>\n",
       "    </tr>\n",
       "    <tr>\n",
       "      <th>23</th>\n",
       "      <td>陳宥珈</td>\n",
       "      <td>94</td>\n",
       "      <td>88</td>\n",
       "    </tr>\n",
       "    <tr>\n",
       "      <th>24</th>\n",
       "      <td>張瑋庭</td>\n",
       "      <td>98</td>\n",
       "      <td>90</td>\n",
       "    </tr>\n",
       "    <tr>\n",
       "      <th>25</th>\n",
       "      <td>邵令仲</td>\n",
       "      <td>50</td>\n",
       "      <td>60</td>\n",
       "    </tr>\n",
       "  </tbody>\n",
       "</table>\n",
       "</div>"
      ],
      "text/plain": [
       "   name  math grade  chinese grade\n",
       "0   高田地          95             70\n",
       "1   盧彥翔          70             80\n",
       "2   王秉岳          55             60\n",
       "3   莊子毅          60             95\n",
       "4   張禕宸          45             90\n",
       "5   陳宥紳          67             66\n",
       "6   吳婕寧          85             95\n",
       "7   柯杰佑          65             80\n",
       "8   楊子傑          45             60\n",
       "9   李維紘          90             91\n",
       "10  陳子謀          92             97\n",
       "11  陳韋誠          66             90\n",
       "12  邱柏堯          62             87\n",
       "13  張旨諒          57             80\n",
       "14  何仲軒          87             89\n",
       "15  鐘王誠          84             90\n",
       "16  楊浩羽          55             57\n",
       "17  張禕秦          78             90\n",
       "18  黃楷互          81             66\n",
       "19  李皓威          67             88\n",
       "20  吳宥宏          66             95\n",
       "21  柯安安          81             77\n",
       "22  江玠慶          92             67\n",
       "23  陳宥珈          94             88\n",
       "24  張瑋庭          98             90\n",
       "25  邵令仲          50             60"
      ]
     },
     "execution_count": 6,
     "metadata": {},
     "output_type": "execute_result"
    }
   ],
   "source": [
    "df_csv"
   ]
  },
  {
   "cell_type": "code",
   "execution_count": 7,
   "id": "639853e6",
   "metadata": {},
   "outputs": [],
   "source": [
    "students_set = set(df_csv['name'])\n",
    "math_students_set = set(df_csv[df_csv['math grade'] >= 80]['name'])\n",
    "chinese_students_set = set(df_csv[df_csv['chinese grade'] >= 80]['name'])"
   ]
  },
  {
   "cell_type": "code",
   "execution_count": 8,
   "id": "1e3847b6",
   "metadata": {},
   "outputs": [],
   "source": [
    "#聯集，所有國文數學優秀的學生\n",
    "union_set = students_set.union(math_students_set, chinese_students_set)"
   ]
  },
  {
   "cell_type": "code",
   "execution_count": 9,
   "id": "8f1d08d5",
   "metadata": {},
   "outputs": [],
   "source": [
    "#交集，兩科都很優秀\n",
    "intersection_set = students_set.intersection(math_students_set, chinese_students_set)"
   ]
  },
  {
   "cell_type": "code",
   "execution_count": 10,
   "id": "8e99730f",
   "metadata": {},
   "outputs": [],
   "source": [
    "#差集、兩科都不好\n",
    "difference_set = students_set.difference(math_students_set, chinese_students_set)"
   ]
  },
  {
   "cell_type": "code",
   "execution_count": 11,
   "id": "c8257daa",
   "metadata": {},
   "outputs": [
    {
     "name": "stdout",
     "output_type": "stream",
     "text": [
      "全體學生: {'王秉岳', '高田地', '柯杰佑', '陳韋誠', '張禕宸', '張瑋庭', '楊浩羽', '盧彥翔', '黃楷互', '楊子傑', '吳婕寧', '邵令仲', '陳宥珈', '張旨諒', '鐘王誠', '莊子毅', '李維紘', '邱柏堯', '柯安安', '江玠慶', '張禕秦', '李皓威', '陳宥紳', '陳子謀', '吳宥宏', '何仲軒'}\n",
      "數學優秀學生: {'黃楷互', '柯安安', '江玠慶', '鐘王誠', '吳婕寧', '高田地', '陳宥珈', '李維紘', '陳子謀', '張瑋庭', '何仲軒'}\n",
      "國文優秀學生: {'邱柏堯', '張旨諒', '鐘王誠', '張瑋庭', '陳子謀', '吳婕寧', '張禕秦', '柯杰佑', '李皓威', '陳韋誠', '陳宥珈', '莊子毅', '李維紘', '張禕宸', '吳宥宏', '何仲軒', '盧彥翔'}\n",
      "所有國文數學優秀的學生: {'王秉岳', '高田地', '柯杰佑', '陳韋誠', '張禕宸', '張瑋庭', '楊浩羽', '盧彥翔', '黃楷互', '楊子傑', '吳婕寧', '邵令仲', '陳宥珈', '張旨諒', '鐘王誠', '莊子毅', '李維紘', '邱柏堯', '柯安安', '江玠慶', '張禕秦', '李皓威', '陳宥紳', '陳子謀', '吳宥宏', '何仲軒'}\n",
      "兩科都很優秀: {'鐘王誠', '吳婕寧', '陳宥珈', '李維紘', '陳子謀', '張瑋庭', '何仲軒'}\n",
      "兩科都不好: {'王秉岳', '楊子傑', '邵令仲', '陳宥紳', '楊浩羽'}\n"
     ]
    }
   ],
   "source": [
    "#將成績大於80分設為優秀等級，數學80分以上的人有11位，國文80分以上的人有17位，由此資料可以了解到本班的語文能力比數理能力好，甚至兩科都很優秀的人共計7位，分別是陳宥珈,何仲軒,李維紘,陳子謀,張瑋庭,吳婕寧,鐘王誠\n",
    "print(f'全體學生: {students_set}')\n",
    "print(f'數學優秀學生: {math_students_set}')\n",
    "print(f'國文優秀學生: {chinese_students_set}')\n",
    "print(f'所有國文數學優秀的學生: {union_set}')\n",
    "print(f'兩科都很優秀: {intersection_set}')\n",
    "print(f'兩科都不好: {difference_set}')"
   ]
  },
  {
   "cell_type": "code",
   "execution_count": null,
   "id": "63fb32e5",
   "metadata": {},
   "outputs": [],
   "source": []
  }
 ],
 "metadata": {
  "kernelspec": {
   "display_name": "Python 3 (ipykernel)",
   "language": "python",
   "name": "python3"
  },
  "language_info": {
   "codemirror_mode": {
    "name": "ipython",
    "version": 3
   },
   "file_extension": ".py",
   "mimetype": "text/x-python",
   "name": "python",
   "nbconvert_exporter": "python",
   "pygments_lexer": "ipython3",
   "version": "3.9.13"
  }
 },
 "nbformat": 4,
 "nbformat_minor": 5
}
